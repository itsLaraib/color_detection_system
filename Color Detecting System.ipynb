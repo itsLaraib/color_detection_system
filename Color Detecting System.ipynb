{
 "cells": [
  {
   "cell_type": "code",
   "execution_count": 16,
   "id": "adc0f55a-57ab-4c64-bf04-2926800458aa",
   "metadata": {},
   "outputs": [],
   "source": [
    "import numpy as np\n",
    "import cv2\n",
    "from PIL import Image"
   ]
  },
  {
   "cell_type": "code",
   "execution_count": 68,
   "id": "a3089c78-c8ff-4c25-8c9d-877b73cb1843",
   "metadata": {},
   "outputs": [],
   "source": [
    "def get_limits(color):\n",
    "    c = np.uint8([[color]])  # BGR values\n",
    "    hsvC = cv2.cvtColor(c, cv2.COLOR_BGR2HSV)\n",
    "\n",
    "    hue = hsvC[0][0][0]  \n",
    "    lowerLimit = np.array([hue - 10, 100, 100], dtype=np.uint8)\n",
    "    upperLimit = np.array([hue + 10, 255, 255], dtype=np.uint8)\n",
    "   \n",
    "    return lowerLimit, upperLimit,color"
   ]
  },
  {
   "cell_type": "code",
   "execution_count": 81,
   "id": "21ab0cbc-6938-4a69-affc-88549688c1e4",
   "metadata": {},
   "outputs": [],
   "source": [
    "blue = [255,0 , 0]\n",
    "cap = cv2.VideoCapture(0)\n",
    "while True:\n",
    "    ret, frame = cap.read()\n",
    "\n",
    "    hsvImage = cv2.cvtColor(frame, cv2.COLOR_BGR2HSV)\n",
    "    lowerLimit, upperLimit,color = get_limits(color=blue)\n",
    "\n",
    "    mask = cv2.inRange(hsvImage, lowerLimit, upperLimit)\n",
    "\n",
    "    mask_ = Image.fromarray(mask)\n",
    "\n",
    "    bbox = mask_.getbbox()\n",
    "\n",
    "    if bbox is not None:\n",
    "        x1, y1, x2, y2 = bbox\n",
    "\n",
    "        frame = cv2.rectangle(frame, (x1, y1), (x2, y2), (0, 255, 0), 5)\n",
    "        frame=cv2.putText(frame,'Blue',(x1, y1-10),cv2.FONT_HERSHEY_DUPLEX,1,(0,255,0),2,cv2.LINE_AA)\n",
    "\n",
    "    cv2.imshow('frame', frame)\n",
    "\n",
    "    if cv2.waitKey(10) & 0xFF == ord('d'):\n",
    "        break\n",
    "\n",
    "cap.release()\n",
    "\n",
    "cv2.destroyAllWindows()"
   ]
  }
 ],
 "metadata": {
  "kernelspec": {
   "display_name": "Python (myenv)",
   "language": "python",
   "name": "myenv"
  },
  "language_info": {
   "codemirror_mode": {
    "name": "ipython",
    "version": 3
   },
   "file_extension": ".py",
   "mimetype": "text/x-python",
   "name": "python",
   "nbconvert_exporter": "python",
   "pygments_lexer": "ipython3",
   "version": "3.8.18"
  }
 },
 "nbformat": 4,
 "nbformat_minor": 5
}
